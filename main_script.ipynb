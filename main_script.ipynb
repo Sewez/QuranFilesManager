{
 "cells": [
  {
   "cell_type": "markdown",
   "id": "e2e9fd0d",
   "metadata": {},
   "source": [
    "# Script to update meta data for Quran mp3file\n",
    "The following script will read all MP3 files in a directory (using glob) and rename all mp3 files under this dicretory to 3-digit number followed by a space and the verse name. \n",
    "\n",
    "It'll also update all metadata according to the name of the artist/album provided below\n",
    "\n",
    "Assumption: \n",
    "* One mp3 file per verse. \n",
    "* All mp3 files are already sorted under the selected directory\n",
    "* Location and meta data information below must be updated before running the script"
   ]
  },
  {
   "cell_type": "code",
   "execution_count": 1,
   "id": "b6e2d6b9",
   "metadata": {},
   "outputs": [],
   "source": [
    "# load the libraries that we'll use  \n",
    "from mutagen.mp3 import MP3  \n",
    "from mutagen.easyid3 import EasyID3  \n",
    "import mutagen.id3  \n",
    "from mutagen.id3 import ID3, TIT2, TIT3, TALB, TPE1, TRCK, TYER  \n",
    "  \n",
    "import glob  \n",
    "  \n",
    "import numpy as np  \n",
    "\n",
    "import os"
   ]
  },
  {
   "cell_type": "code",
   "execution_count": 14,
   "id": "bfbb4589",
   "metadata": {},
   "outputs": [
    {
     "data": {
      "text/plain": [
       "'C:\\\\amasha\\\\MP3\\\\AbdulrahmanAssudais\\\\001 Al-Fatihah.mp3'"
      ]
     },
     "execution_count": 14,
     "metadata": {},
     "output_type": "execute_result"
    }
   ],
   "source": [
    "# extract the file names (including folders)  \n",
    "# for the mp3s in the album  \n",
    "filez = glob.glob(\"C:\\\\amasha\\\\MP3\\\\AbdulrahmanAssudais\\\\*.mp3\") \n",
    " # print the first element of filez:  \n",
    "filez[0]  "
   ]
  },
  {
   "cell_type": "code",
   "execution_count": 15,
   "id": "b60fcd9a",
   "metadata": {},
   "outputs": [],
   "source": [
    "# load all verses names from file\n",
    "with open('VerseNames.txt', 'r') as file:\n",
    "    versesNames = file.readlines()"
   ]
  },
  {
   "cell_type": "code",
   "execution_count": 10,
   "id": "ab38aa84",
   "metadata": {},
   "outputs": [],
   "source": [
    "# Rename files to 3 digit number and verses\n",
    "for i in np.arange(0, len (filez)): \n",
    "    oldName = filez[i]\n",
    "    #print(oldName)\n",
    "    newName = '\\\\'.join(filez[i].split(\"\\\\\")[0:-1]) + '\\\\' + versesNames[i][0:-1] + '.mp3'\n",
    "    #print(newName)\n",
    "    os.rename(oldName, newName)"
   ]
  },
  {
   "cell_type": "code",
   "execution_count": 16,
   "id": "55352256",
   "metadata": {},
   "outputs": [],
   "source": [
    "# loop through the mp3 files, extracting the track number,  \n",
    "# then setting the album, albumartist and track number  \n",
    "# to the appropriate values   \n",
    "for i in np.arange(0, len (filez)):  \n",
    "    # extract the length of the directory  \n",
    "    length_directory = len(filez[i].split(\"\\\\\"))  \n",
    "    # extract the track number from the last element of the file path  \n",
    "    tracknum = filez[i].split(\"\\\\\")[length_directory-1][0:3]\n",
    "    #print(tracknum)\n",
    "    # mp3 name (with directory) from filez  \n",
    "    verse = filez[i]  \n",
    "    # turn it into an mp3 object using the mutagen library  \n",
    "    mp3file = MP3(verse, ID3=EasyID3)  \n",
    "    # set the album name  \n",
    "    mp3file['title'] = [versesNames[i][4:]]\n",
    "    # set the albumartist name  \n",
    "    mp3file['albumartist'] = ['Abdulrahman Alsudaes']\n",
    "    mp3file['album'] = ['Abdulrahman Alsudaes - Quran']\n",
    "    # set the track number with the proper format  \n",
    "    mp3file['tracknumber'] = str(tracknum) + '/' + str(len(filez))  \n",
    "    # save the changes that we've made  \n",
    "    mp3file.save()"
   ]
  }
 ],
 "metadata": {
  "kernelspec": {
   "display_name": "Python 3 (ipykernel)",
   "language": "python",
   "name": "python3"
  },
  "language_info": {
   "codemirror_mode": {
    "name": "ipython",
    "version": 3
   },
   "file_extension": ".py",
   "mimetype": "text/x-python",
   "name": "python",
   "nbconvert_exporter": "python",
   "pygments_lexer": "ipython3",
   "version": "3.9.7"
  }
 },
 "nbformat": 4,
 "nbformat_minor": 5
}

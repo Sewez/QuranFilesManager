{
 "cells": [
  {
   "cell_type": "markdown",
   "id": "e2e9fd0d",
   "metadata": {},
   "source": [
    "# Script to update meta data for Quran mp3file\n",
    "The following script will read all MP3 files in a directory (using glob) and rename all mp3 files under this dicretory to 3-digit number followed by a space and the verse name. \n",
    "\n",
    "It'll also update all metadata according to the name of the artist/album provided below\n",
    "\n",
    "Assumption: \n",
    "* One mp3 file per verse. \n",
    "* All mp3 files are already sorted under the selected directory\n",
    "* Location and meta data information below must be updated before running the script\n",
    "\n",
    "\n",
    "Tutorial used: https://methodmatters.github.io/editing-id3-tags-mp3-meta-data-in-python/"
   ]
  },
  {
   "cell_type": "code",
   "execution_count": 1,
   "id": "b6e2d6b9",
   "metadata": {},
   "outputs": [],
   "source": [
    "# load the libraries that we'll use  \n",
    "from mutagen.mp3 import MP3  \n",
    "from mutagen.easyid3 import EasyID3  \n",
    "import mutagen.id3  \n",
    "from mutagen.id3 import ID3, TIT2, TIT3, TALB, TPE1, TRCK, TYER  \n",
    "  \n",
    "import glob  \n",
    "  \n",
    "import numpy as np  \n",
    "\n",
    "import os"
   ]
  },
  {
   "cell_type": "code",
   "execution_count": 11,
   "id": "bfbb4589",
   "metadata": {},
   "outputs": [
    {
     "data": {
      "text/plain": [
       "'/Users/amasha/Downloads/105-mp3/001 Al-Fatihah.mp3'"
      ]
     },
     "execution_count": 11,
     "metadata": {},
     "output_type": "execute_result"
    }
   ],
   "source": [
    "# extract the file names (including folders)  \n",
    "# for the mp3s in the album  \n",
    "filez = glob.glob(\"/Users/amasha/Downloads/105-mp3/*.mp3\")\n",
    "filez = sorted(filez)\n",
    " # print the first element of filez:  \n",
    "filez[0]  "
   ]
  },
  {
   "cell_type": "code",
   "execution_count": 12,
   "id": "672fb95f",
   "metadata": {},
   "outputs": [
    {
     "name": "stdout",
     "output_type": "stream",
     "text": [
      "['/Users/amasha/Downloads/105-mp3/001 Al-Fatihah.mp3', '/Users/amasha/Downloads/105-mp3/002 Al-Baqarah.mp3', '/Users/amasha/Downloads/105-mp3/003 Al-Imran.mp3', \"/Users/amasha/Downloads/105-mp3/004 An-Nisa'.mp3\", \"/Users/amasha/Downloads/105-mp3/005 Al-Ma'idah.mp3\", \"/Users/amasha/Downloads/105-mp3/006 Al-An'am.mp3\", \"/Users/amasha/Downloads/105-mp3/007 Al-A'raf.mp3\", '/Users/amasha/Downloads/105-mp3/008 Al-Anfal.mp3', '/Users/amasha/Downloads/105-mp3/009 At-Taubah.mp3', '/Users/amasha/Downloads/105-mp3/010 Yunus.mp3', '/Users/amasha/Downloads/105-mp3/011 Hood.mp3', '/Users/amasha/Downloads/105-mp3/012 Yusuf.mp3', \"/Users/amasha/Downloads/105-mp3/013 Ar-Ra'd.mp3\", '/Users/amasha/Downloads/105-mp3/014 Ibrahim.mp3', '/Users/amasha/Downloads/105-mp3/015 Al-Hijr.mp3', '/Users/amasha/Downloads/105-mp3/016 An-Nahl.mp3', '/Users/amasha/Downloads/105-mp3/017 Al-Isra.mp3', '/Users/amasha/Downloads/105-mp3/018 Al-Kahf.mp3', '/Users/amasha/Downloads/105-mp3/019 Maryam.mp3', '/Users/amasha/Downloads/105-mp3/020 TaHa.mp3', \"/Users/amasha/Downloads/105-mp3/021 Al-Anbiya'.mp3\", '/Users/amasha/Downloads/105-mp3/022 Al-Hajj.mp3', \"/Users/amasha/Downloads/105-mp3/023 Al-Mu'minun.mp3\", '/Users/amasha/Downloads/105-mp3/024 An-Nur.mp3', '/Users/amasha/Downloads/105-mp3/025 Al-Furqan.mp3', \"/Users/amasha/Downloads/105-mp3/026 Ash-Shu'ara'.mp3\", '/Users/amasha/Downloads/105-mp3/027 An-Naml.mp3', '/Users/amasha/Downloads/105-mp3/028 Al-Qasas.mp3', \"/Users/amasha/Downloads/105-mp3/029 Al-'Ankabut.mp3\", '/Users/amasha/Downloads/105-mp3/030 ArRoom.mp3', '/Users/amasha/Downloads/105-mp3/031 Luqman.mp3', '/Users/amasha/Downloads/105-mp3/032 AsSajdah.mp3', '/Users/amasha/Downloads/105-mp3/033 AlAhzab.mp3', \"/Users/amasha/Downloads/105-mp3/034 Saba'.mp3\", '/Users/amasha/Downloads/105-mp3/035 Fatir.mp3', '/Users/amasha/Downloads/105-mp3/036 Ya�Sin.mp3', '/Users/amasha/Downloads/105-mp3/037 As-Saffat.mp3', '/Users/amasha/Downloads/105-mp3/038 Sad.mp3', '/Users/amasha/Downloads/105-mp3/039 Az-Zumar.mp3', '/Users/amasha/Downloads/105-mp3/040 Ghafir.mp3', '/Users/amasha/Downloads/105-mp3/041 Fussilat.mp3', '/Users/amasha/Downloads/105-mp3/042 Ash-Shura.mp3', '/Users/amasha/Downloads/105-mp3/043 Az-Zukhruf.mp3', '/Users/amasha/Downloads/105-mp3/044 Ad-Dukhan.mp3', '/Users/amasha/Downloads/105-mp3/045 Al-Jathiya.mp3', '/Users/amasha/Downloads/105-mp3/046 Al-Ahqaf.mp3', '/Users/amasha/Downloads/105-mp3/047 Muhammad.mp3', '/Users/amasha/Downloads/105-mp3/048 Al-Fath.mp3', '/Users/amasha/Downloads/105-mp3/049 Al-Hujurat.mp3', '/Users/amasha/Downloads/105-mp3/050 Qaf.mp3', '/Users/amasha/Downloads/105-mp3/051 Az-Zariyat.mp3', '/Users/amasha/Downloads/105-mp3/052 At-Tur.mp3', '/Users/amasha/Downloads/105-mp3/053 An-Najm.mp3', '/Users/amasha/Downloads/105-mp3/054 Al-Qamar.mp3', '/Users/amasha/Downloads/105-mp3/055 Ar-Rahman.mp3', \"/Users/amasha/Downloads/105-mp3/056 Al-Waqi'ah.mp3\", '/Users/amasha/Downloads/105-mp3/057 Al-Hadid.mp3', '/Users/amasha/Downloads/105-mp3/058 Al-Mujadilah.mp3', '/Users/amasha/Downloads/105-mp3/059 Al-Hashr.mp3', '/Users/amasha/Downloads/105-mp3/060 Al-Mumtahinah.mp3', '/Users/amasha/Downloads/105-mp3/061 As-Saff.mp3', \"/Users/amasha/Downloads/105-mp3/062 Al-Jumu'ah.mp3\", '/Users/amasha/Downloads/105-mp3/063 Al-Munafiqun.mp3', '/Users/amasha/Downloads/105-mp3/064 At-Taghabun.mp3', '/Users/amasha/Downloads/105-mp3/065 At-Talaq.mp3', '/Users/amasha/Downloads/105-mp3/066 At-Tahrim.mp3', '/Users/amasha/Downloads/105-mp3/067 Al-Mulk.mp3', '/Users/amasha/Downloads/105-mp3/068 Al-Qalam.mp3', '/Users/amasha/Downloads/105-mp3/069 Al-Haqqah.mp3', \"/Users/amasha/Downloads/105-mp3/070 Al-Ma'arij.mp3\", '/Users/amasha/Downloads/105-mp3/071 Nooh.mp3', '/Users/amasha/Downloads/105-mp3/072 Al-Jinn.mp3', '/Users/amasha/Downloads/105-mp3/073 Al-Muzzammil.mp3', '/Users/amasha/Downloads/105-mp3/074 Al-Muddaththir.mp3', '/Users/amasha/Downloads/105-mp3/075 Al-Qiyamah.mp3', '/Users/amasha/Downloads/105-mp3/076 Al-Insan.mp3', '/Users/amasha/Downloads/105-mp3/077 Al-Mursalat.mp3', \"/Users/amasha/Downloads/105-mp3/078 An-Naba'.mp3\", \"/Users/amasha/Downloads/105-mp3/079 An-Nazi'at.mp3\", \"/Users/amasha/Downloads/105-mp3/080 'Abasa.mp3\", '/Users/amasha/Downloads/105-mp3/081 At-Takwir.mp3', '/Users/amasha/Downloads/105-mp3/082 Al-Infitar.mp3', '/Users/amasha/Downloads/105-mp3/083 Al-Mutaffifin.mp3', '/Users/amasha/Downloads/105-mp3/084 Al-Inshiqaq.mp3', '/Users/amasha/Downloads/105-mp3/085 Al-Buruj.mp3', '/Users/amasha/Downloads/105-mp3/086 At-Tariq.mp3', \"/Users/amasha/Downloads/105-mp3/087 Al-A'la.mp3\", '/Users/amasha/Downloads/105-mp3/088 Al-Ghashiyah.mp3', '/Users/amasha/Downloads/105-mp3/089 Al-Fajr.mp3', '/Users/amasha/Downloads/105-mp3/090 Al-Balad.mp3', '/Users/amasha/Downloads/105-mp3/091 Ash-Shams.mp3', '/Users/amasha/Downloads/105-mp3/092 Al-Lail.mp3', '/Users/amasha/Downloads/105-mp3/093 Ad-Duha.mp3', '/Users/amasha/Downloads/105-mp3/094 Ash-Sharh.mp3', '/Users/amasha/Downloads/105-mp3/095 At-Tin.mp3', \"/Users/amasha/Downloads/105-mp3/096 Al-'Alaq.mp3\", '/Users/amasha/Downloads/105-mp3/097 Al-Qadr.mp3', '/Users/amasha/Downloads/105-mp3/098 Al-Baiyinah.mp3', '/Users/amasha/Downloads/105-mp3/099 Az-Zalzalah.mp3', \"/Users/amasha/Downloads/105-mp3/100 Al-'Adiyat.mp3\", \"/Users/amasha/Downloads/105-mp3/101 Al-Qari'ah.mp3\", '/Users/amasha/Downloads/105-mp3/102 At-Takathur.mp3', \"/Users/amasha/Downloads/105-mp3/103 Al-'Asr.mp3\", '/Users/amasha/Downloads/105-mp3/104 Al-Humazah.mp3', '/Users/amasha/Downloads/105-mp3/105 Al-Fil.mp3', '/Users/amasha/Downloads/105-mp3/106 Quraish.mp3', \"/Users/amasha/Downloads/105-mp3/107 Al-Ma'un.mp3\", '/Users/amasha/Downloads/105-mp3/108 Al-Kauthar.mp3', '/Users/amasha/Downloads/105-mp3/109 Al-Kafirun.mp3', '/Users/amasha/Downloads/105-mp3/110 An-Nasr.mp3', '/Users/amasha/Downloads/105-mp3/111 Al-Masad.mp3', '/Users/amasha/Downloads/105-mp3/112 Al-Ikhlas.mp3', '/Users/amasha/Downloads/105-mp3/113 Al-Falaq.mp3', '/Users/amasha/Downloads/105-mp3/114 An-Nas.mp3']\n"
     ]
    }
   ],
   "source": [
    "print(filez)"
   ]
  },
  {
   "cell_type": "code",
   "execution_count": 8,
   "id": "b60fcd9a",
   "metadata": {},
   "outputs": [],
   "source": [
    "# load all verses names from file\n",
    "with open('VerseNames.txt', 'r') as file:\n",
    "    versesNames = file.readlines()"
   ]
  },
  {
   "cell_type": "code",
   "execution_count": 9,
   "id": "ab38aa84",
   "metadata": {},
   "outputs": [],
   "source": [
    "# Rename files to 3 digit number and verses\n",
    "for i in np.arange(0, len (filez)): \n",
    "    oldName = filez[i]\n",
    "    #print(oldName)\n",
    "    newName = '/'.join(filez[i].split(\"/\")[0:-1]) + '/' + versesNames[i][0:-1] + '.mp3'\n",
    "    #print(newName)\n",
    "    os.rename(oldName, newName)"
   ]
  },
  {
   "cell_type": "code",
   "execution_count": 13,
   "id": "55352256",
   "metadata": {},
   "outputs": [],
   "source": [
    "# loop through the mp3 files, extracting the track number,  \n",
    "# then setting the album, albumartist and track number  \n",
    "# to the appropriate values   \n",
    "for i in np.arange(0, len (filez)):  \n",
    "    # extract the length of the directory  \n",
    "    length_directory = len(filez[i].split(\"/\"))  \n",
    "    # extract the track number from the last element of the file path  \n",
    "    tracknum = filez[i].split(\"/\")[length_directory-1][0:3]\n",
    "    #print(tracknum)\n",
    "    # mp3 name (with directory) from filez  \n",
    "    verse = filez[i]  \n",
    "    # turn it into an mp3 object using the mutagen library  \n",
    "    mp3file = MP3(verse, ID3=EasyID3)  \n",
    "    # set the album name  \n",
    "    mp3file['title'] = [str(tracknum) + ' ' + versesNames[i][4:]]\n",
    "    # set the albumartist name  \n",
    "    mp3file['albumartist'] = ['ElMenshawy']\n",
    "    mp3file['album'] = ['ElMenshawy - Quran']\n",
    "    # set the track number with the proper format  \n",
    "    mp3file['tracknumber'] = str(tracknum) + '/' + str(len(filez))  \n",
    "    # save the changes that we've made  \n",
    "    mp3file.save()"
   ]
  },
  {
   "cell_type": "code",
   "execution_count": null,
   "id": "0f3d71bb",
   "metadata": {},
   "outputs": [],
   "source": []
  }
 ],
 "metadata": {
  "kernelspec": {
   "display_name": "Python 3 (ipykernel)",
   "language": "python",
   "name": "python3"
  },
  "language_info": {
   "codemirror_mode": {
    "name": "ipython",
    "version": 3
   },
   "file_extension": ".py",
   "mimetype": "text/x-python",
   "name": "python",
   "nbconvert_exporter": "python",
   "pygments_lexer": "ipython3",
   "version": "3.10.13"
  }
 },
 "nbformat": 4,
 "nbformat_minor": 5
}

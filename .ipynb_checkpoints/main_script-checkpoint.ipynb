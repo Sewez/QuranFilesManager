{
 "cells": [
  {
   "cell_type": "markdown",
   "id": "e2e9fd0d",
   "metadata": {},
   "source": [
    "# Script to update meta data for Quran mp3file\n",
    "The following script will read all MP3 files in a directory (using glob) and rename all mp3 files under this dicretory to 3-digit number followed by a space and the verse name. \n",
    "\n",
    "It'll also update all metadata according to the name of the artist/album provided below\n",
    "\n",
    "Assumption: \n",
    "* One mp3 file per verse. \n",
    "* All mp3 files are already sorted under the selected directory\n",
    "* Location and meta data information below must be updated before running the script\n",
    "\n",
    "\n",
    "Tutorial used: https://methodmatters.github.io/editing-id3-tags-mp3-meta-data-in-python/"
   ]
  },
  {
   "cell_type": "code",
   "execution_count": 1,
   "id": "b6e2d6b9",
   "metadata": {},
   "outputs": [],
   "source": [
    "# load the libraries that we'll use  \n",
    "from mutagen.mp3 import MP3  \n",
    "from mutagen.easyid3 import EasyID3  \n",
    "import mutagen.id3  \n",
    "from mutagen.id3 import ID3, TIT2, TIT3, TALB, TPE1, TRCK, TYER  \n",
    "  \n",
    "import glob  \n",
    "  \n",
    "import numpy as np  \n",
    "\n",
    "import os"
   ]
  },
  {
   "cell_type": "code",
   "execution_count": 5,
   "id": "bfbb4589",
   "metadata": {},
   "outputs": [
    {
     "data": {
      "text/plain": [
       "'/Users/amasha/Downloads/105-mp3/001.mp3'"
      ]
     },
     "execution_count": 5,
     "metadata": {},
     "output_type": "execute_result"
    }
   ],
   "source": [
    "# extract the file names (including folders)  \n",
    "# for the mp3s in the album  \n",
    "filez = glob.glob(\"/Users/amasha/Downloads/105-mp3/*.mp3\")\n",
    "filez = sorted(filez)\n",
    " # print the first element of filez:  \n",
    "filez[0]  "
   ]
  },
  {
   "cell_type": "code",
   "execution_count": 6,
   "id": "bdfcda77",
   "metadata": {},
   "outputs": [
    {
     "name": "stdout",
     "output_type": "stream",
     "text": [
      "['/Users/amasha/Downloads/105-mp3/001.mp3', '/Users/amasha/Downloads/105-mp3/002.mp3', '/Users/amasha/Downloads/105-mp3/003.mp3', '/Users/amasha/Downloads/105-mp3/004.mp3', '/Users/amasha/Downloads/105-mp3/005.mp3', '/Users/amasha/Downloads/105-mp3/006.mp3', '/Users/amasha/Downloads/105-mp3/007.mp3', '/Users/amasha/Downloads/105-mp3/008.mp3', '/Users/amasha/Downloads/105-mp3/009.mp3', '/Users/amasha/Downloads/105-mp3/010.mp3', '/Users/amasha/Downloads/105-mp3/011.mp3', '/Users/amasha/Downloads/105-mp3/012.mp3', '/Users/amasha/Downloads/105-mp3/013.mp3', '/Users/amasha/Downloads/105-mp3/014.mp3', '/Users/amasha/Downloads/105-mp3/015.mp3', '/Users/amasha/Downloads/105-mp3/016.mp3', '/Users/amasha/Downloads/105-mp3/017.mp3', '/Users/amasha/Downloads/105-mp3/018.mp3', '/Users/amasha/Downloads/105-mp3/019.mp3', '/Users/amasha/Downloads/105-mp3/020.mp3', '/Users/amasha/Downloads/105-mp3/021.mp3', '/Users/amasha/Downloads/105-mp3/022.mp3', '/Users/amasha/Downloads/105-mp3/023.mp3', '/Users/amasha/Downloads/105-mp3/024.mp3', '/Users/amasha/Downloads/105-mp3/025.mp3', '/Users/amasha/Downloads/105-mp3/026.mp3', '/Users/amasha/Downloads/105-mp3/027.mp3', '/Users/amasha/Downloads/105-mp3/028.mp3', '/Users/amasha/Downloads/105-mp3/029.mp3', '/Users/amasha/Downloads/105-mp3/030.mp3', '/Users/amasha/Downloads/105-mp3/031.mp3', '/Users/amasha/Downloads/105-mp3/032.mp3', '/Users/amasha/Downloads/105-mp3/033.mp3', '/Users/amasha/Downloads/105-mp3/034.mp3', '/Users/amasha/Downloads/105-mp3/035.mp3', '/Users/amasha/Downloads/105-mp3/036.mp3', '/Users/amasha/Downloads/105-mp3/037.mp3', '/Users/amasha/Downloads/105-mp3/038.mp3', '/Users/amasha/Downloads/105-mp3/039.mp3', '/Users/amasha/Downloads/105-mp3/040.mp3', '/Users/amasha/Downloads/105-mp3/041.mp3', '/Users/amasha/Downloads/105-mp3/042.mp3', '/Users/amasha/Downloads/105-mp3/043.mp3', '/Users/amasha/Downloads/105-mp3/044.mp3', '/Users/amasha/Downloads/105-mp3/045.mp3', '/Users/amasha/Downloads/105-mp3/046.mp3', '/Users/amasha/Downloads/105-mp3/047.mp3', '/Users/amasha/Downloads/105-mp3/048.mp3', '/Users/amasha/Downloads/105-mp3/049.mp3', '/Users/amasha/Downloads/105-mp3/050.mp3', '/Users/amasha/Downloads/105-mp3/051.mp3', '/Users/amasha/Downloads/105-mp3/052.mp3', '/Users/amasha/Downloads/105-mp3/053.mp3', '/Users/amasha/Downloads/105-mp3/054.mp3', '/Users/amasha/Downloads/105-mp3/055.mp3', '/Users/amasha/Downloads/105-mp3/056.mp3', '/Users/amasha/Downloads/105-mp3/057.mp3', '/Users/amasha/Downloads/105-mp3/058.mp3', '/Users/amasha/Downloads/105-mp3/059.mp3', '/Users/amasha/Downloads/105-mp3/060.mp3', '/Users/amasha/Downloads/105-mp3/061.mp3', '/Users/amasha/Downloads/105-mp3/062.mp3', '/Users/amasha/Downloads/105-mp3/063.mp3', '/Users/amasha/Downloads/105-mp3/064.mp3', '/Users/amasha/Downloads/105-mp3/065.mp3', '/Users/amasha/Downloads/105-mp3/066.mp3', '/Users/amasha/Downloads/105-mp3/067.mp3', '/Users/amasha/Downloads/105-mp3/068.mp3', '/Users/amasha/Downloads/105-mp3/069.mp3', '/Users/amasha/Downloads/105-mp3/070.mp3', '/Users/amasha/Downloads/105-mp3/071.mp3', '/Users/amasha/Downloads/105-mp3/072.mp3', '/Users/amasha/Downloads/105-mp3/073.mp3', '/Users/amasha/Downloads/105-mp3/074.mp3', '/Users/amasha/Downloads/105-mp3/075.mp3', '/Users/amasha/Downloads/105-mp3/076.mp3', '/Users/amasha/Downloads/105-mp3/077.mp3', '/Users/amasha/Downloads/105-mp3/078.mp3', '/Users/amasha/Downloads/105-mp3/079.mp3', '/Users/amasha/Downloads/105-mp3/080.mp3', '/Users/amasha/Downloads/105-mp3/081.mp3', '/Users/amasha/Downloads/105-mp3/082.mp3', '/Users/amasha/Downloads/105-mp3/083.mp3', '/Users/amasha/Downloads/105-mp3/084.mp3', '/Users/amasha/Downloads/105-mp3/085.mp3', '/Users/amasha/Downloads/105-mp3/086.mp3', '/Users/amasha/Downloads/105-mp3/087.mp3', '/Users/amasha/Downloads/105-mp3/088.mp3', '/Users/amasha/Downloads/105-mp3/089.mp3', '/Users/amasha/Downloads/105-mp3/090.mp3', '/Users/amasha/Downloads/105-mp3/091.mp3', '/Users/amasha/Downloads/105-mp3/092.mp3', '/Users/amasha/Downloads/105-mp3/093.mp3', '/Users/amasha/Downloads/105-mp3/094.mp3', '/Users/amasha/Downloads/105-mp3/095.mp3', '/Users/amasha/Downloads/105-mp3/096.mp3', '/Users/amasha/Downloads/105-mp3/097.mp3', '/Users/amasha/Downloads/105-mp3/098.mp3', '/Users/amasha/Downloads/105-mp3/099.mp3', '/Users/amasha/Downloads/105-mp3/100.mp3', '/Users/amasha/Downloads/105-mp3/101.mp3', '/Users/amasha/Downloads/105-mp3/102.mp3', '/Users/amasha/Downloads/105-mp3/103.mp3', '/Users/amasha/Downloads/105-mp3/104.mp3', '/Users/amasha/Downloads/105-mp3/105.mp3', '/Users/amasha/Downloads/105-mp3/106.mp3', '/Users/amasha/Downloads/105-mp3/107.mp3', '/Users/amasha/Downloads/105-mp3/108.mp3', '/Users/amasha/Downloads/105-mp3/109.mp3', '/Users/amasha/Downloads/105-mp3/110.mp3', '/Users/amasha/Downloads/105-mp3/111.mp3', '/Users/amasha/Downloads/105-mp3/112.mp3', '/Users/amasha/Downloads/105-mp3/113.mp3', '/Users/amasha/Downloads/105-mp3/114.mp3']\n"
     ]
    }
   ],
   "source": [
    "print(filez)"
   ]
  },
  {
   "cell_type": "code",
   "execution_count": 8,
   "id": "b60fcd9a",
   "metadata": {},
   "outputs": [],
   "source": [
    "# load all verses names from file\n",
    "with open('VerseNames.txt', 'r') as file:\n",
    "    versesNames = file.readlines()"
   ]
  },
  {
   "cell_type": "code",
   "execution_count": 9,
   "id": "ab38aa84",
   "metadata": {},
   "outputs": [],
   "source": [
    "# Rename files to 3 digit number and verses\n",
    "for i in np.arange(0, len (filez)): \n",
    "    oldName = filez[i]\n",
    "    #print(oldName)\n",
    "    newName = '/'.join(filez[i].split(\"/\")[0:-1]) + '/' + versesNames[i][0:-1] + '.mp3'\n",
    "    #print(newName)\n",
    "    os.rename(oldName, newName)"
   ]
  },
  {
   "cell_type": "code",
   "execution_count": 16,
   "id": "55352256",
   "metadata": {},
   "outputs": [],
   "source": [
    "# loop through the mp3 files, extracting the track number,  \n",
    "# then setting the album, albumartist and track number  \n",
    "# to the appropriate values   \n",
    "for i in np.arange(0, len (filez)):  \n",
    "    # extract the length of the directory  \n",
    "    length_directory = len(filez[i].split(\"/\"))  \n",
    "    # extract the track number from the last element of the file path  \n",
    "    tracknum = filez[i].split(\"/\")[length_directory-1][0:3]\n",
    "    #print(tracknum)\n",
    "    # mp3 name (with directory) from filez  \n",
    "    verse = filez[i]  \n",
    "    # turn it into an mp3 object using the mutagen library  \n",
    "    mp3file = MP3(verse, ID3=EasyID3)  \n",
    "    # set the album name  \n",
    "    mp3file['title'] = [str(tracknum) + ' ' + versesNames[i][4:]]\n",
    "    # set the albumartist name  \n",
    "    mp3file['albumartist'] = ['ElMenshawy']\n",
    "    mp3file['album'] = ['ElMenshawy - Quran']\n",
    "    # set the track number with the proper format  \n",
    "    mp3file['tracknumber'] = str(tracknum) + '/' + str(len(filez))  \n",
    "    # save the changes that we've made  \n",
    "    mp3file.save()"
   ]
  }
 ],
 "metadata": {
  "kernelspec": {
   "display_name": "Python 3 (ipykernel)",
   "language": "python",
   "name": "python3"
  },
  "language_info": {
   "codemirror_mode": {
    "name": "ipython",
    "version": 3
   },
   "file_extension": ".py",
   "mimetype": "text/x-python",
   "name": "python",
   "nbconvert_exporter": "python",
   "pygments_lexer": "ipython3",
   "version": "3.10.13"
  }
 },
 "nbformat": 4,
 "nbformat_minor": 5
}
